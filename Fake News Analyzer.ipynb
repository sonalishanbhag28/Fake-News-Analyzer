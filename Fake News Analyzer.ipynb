{
  "nbformat": 4,
  "nbformat_minor": 0,
  "metadata": {
    "colab": {
      "name": "Copy of Final Review 2",
      "provenance": [],
      "collapsed_sections": [
        "7hUM6HfVt_3d",
        "cIQgpOpTuSEl",
        "S2fqwAXsunl6",
        "4KEOSUWFvid2",
        "aNtjpwJOfeVy",
        "hN3heR17wFUB",
        "-8DO2oi-weuA",
        "FbHNPFRBY77W",
        "5dHqUjAsZYUw",
        "kTpg7V_-bOfV",
        "d6c7orCgcQ9A",
        "tdkGuHsTdFZR",
        "UPYCv24RkXZ0"
      ]
    },
    "kernelspec": {
      "display_name": "Python 3",
      "name": "python3"
    },
    "language_info": {
      "name": "python"
    }
  },
  "cells": [
    {
      "cell_type": "markdown",
      "metadata": {
        "id": "APB4TroWs_m2"
      },
      "source": [
        "# **Fake News Predictor** \n"
      ]
    },
    {
      "cell_type": "code",
      "metadata": {
        "colab": {
          "base_uri": "https://localhost:8080/"
        },
        "id": "FxUn9ilMK00W",
        "outputId": "0c7d97a0-7337-42c2-a3c7-be5edb3fa32c"
      },
      "source": [
        "from google.colab import drive\n",
        "drive.mount('/content/drive')"
      ],
      "execution_count": null,
      "outputs": [
        {
          "output_type": "stream",
          "name": "stdout",
          "text": [
            "Mounted at /content/drive\n"
          ]
        }
      ]
    },
    {
      "cell_type": "markdown",
      "metadata": {
        "id": "JXCOg0RytUgS"
      },
      "source": [
        "### Step 1: Import required libraries, packages and corpora"
      ]
    },
    {
      "cell_type": "code",
      "metadata": {
        "id": "pkxzjMdWK6oi"
      },
      "source": [
        "import pandas as pd\n",
        "import numpy as np\n",
        "import re \n",
        "import nltk\n",
        "import sklearn\n",
        "from nltk.corpus import stopwords \n",
        "from nltk.stem.porter import PorterStemmer\n",
        "from sklearn.preprocessing import LabelEncoder\n",
        "from sklearn.model_selection import train_test_split\n",
        "from sklearn.feature_extraction.text import CountVectorizer\n",
        "from tensorflow.keras.models import Sequential\n",
        "from tensorflow.keras.layers import Dense\n",
        "import matplotlib.pyplot as plt\n",
        "import seaborn"
      ],
      "execution_count": null,
      "outputs": []
    },
    {
      "cell_type": "code",
      "metadata": {
        "colab": {
          "base_uri": "https://localhost:8080/"
        },
        "id": "yqQKzewMLKfD",
        "outputId": "51fa641f-1c0f-4d66-edf5-7e772fb282d2"
      },
      "source": [
        "#Download the corpus of stopwords from NLTK (Natural Language Toolkit)\n",
        "nltk.download(\"stopwords\") \n",
        "#Instantiate ProterStemmer()\n",
        "ps = PorterStemmer()"
      ],
      "execution_count": null,
      "outputs": [
        {
          "output_type": "stream",
          "name": "stdout",
          "text": [
            "[nltk_data] Downloading package stopwords to /root/nltk_data...\n",
            "[nltk_data]   Unzipping corpora/stopwords.zip.\n"
          ]
        }
      ]
    },
    {
      "cell_type": "markdown",
      "metadata": {
        "id": "7hUM6HfVt_3d"
      },
      "source": [
        "### Step 2. Read the dataset"
      ]
    },
    {
      "cell_type": "code",
      "metadata": {
        "id": "0uyQMvzXLxbu"
      },
      "source": [
        "dataset = pd.read_csv(\"/content/covid-news-dataset.csv\")"
      ],
      "execution_count": null,
      "outputs": []
    },
    {
      "cell_type": "code",
      "metadata": {
        "colab": {
          "base_uri": "https://localhost:8080/"
        },
        "id": "ItaV2PxqMGGm",
        "outputId": "9c4a8f84-228a-443d-8ea6-0aac4923af94"
      },
      "source": [
        "dataset.head()"
      ],
      "execution_count": null,
      "outputs": [
        {
          "output_type": "execute_result",
          "data": {
            "text/html": [
              "<div>\n",
              "<style scoped>\n",
              "    .dataframe tbody tr th:only-of-type {\n",
              "        vertical-align: middle;\n",
              "    }\n",
              "\n",
              "    .dataframe tbody tr th {\n",
              "        vertical-align: top;\n",
              "    }\n",
              "\n",
              "    .dataframe thead th {\n",
              "        text-align: right;\n",
              "    }\n",
              "</style>\n",
              "<table border=\"1\" class=\"dataframe\">\n",
              "  <thead>\n",
              "    <tr style=\"text-align: right;\">\n",
              "      <th></th>\n",
              "      <th>id</th>\n",
              "      <th>tweet</th>\n",
              "      <th>label</th>\n",
              "    </tr>\n",
              "  </thead>\n",
              "  <tbody>\n",
              "    <tr>\n",
              "      <th>0</th>\n",
              "      <td>1</td>\n",
              "      <td>The CDC currently reports 99031 deaths. In gen...</td>\n",
              "      <td>real</td>\n",
              "    </tr>\n",
              "    <tr>\n",
              "      <th>1</th>\n",
              "      <td>2</td>\n",
              "      <td>States reported 1121 deaths a small rise from ...</td>\n",
              "      <td>real</td>\n",
              "    </tr>\n",
              "    <tr>\n",
              "      <th>2</th>\n",
              "      <td>3</td>\n",
              "      <td>Politically Correct Woman (Almost) Uses Pandem...</td>\n",
              "      <td>fake</td>\n",
              "    </tr>\n",
              "    <tr>\n",
              "      <th>3</th>\n",
              "      <td>4</td>\n",
              "      <td>#IndiaFightsCorona: We have 1524 #COVID testin...</td>\n",
              "      <td>real</td>\n",
              "    </tr>\n",
              "    <tr>\n",
              "      <th>4</th>\n",
              "      <td>5</td>\n",
              "      <td>Populous states can generate large case counts...</td>\n",
              "      <td>real</td>\n",
              "    </tr>\n",
              "  </tbody>\n",
              "</table>\n",
              "</div>"
            ],
            "text/plain": [
              "   id                                              tweet label\n",
              "0   1  The CDC currently reports 99031 deaths. In gen...  real\n",
              "1   2  States reported 1121 deaths a small rise from ...  real\n",
              "2   3  Politically Correct Woman (Almost) Uses Pandem...  fake\n",
              "3   4  #IndiaFightsCorona: We have 1524 #COVID testin...  real\n",
              "4   5  Populous states can generate large case counts...  real"
            ]
          },
          "metadata": {},
          "execution_count": 6
        }
      ]
    },
    {
      "cell_type": "markdown",
      "metadata": {
        "id": "_jOx2d7UuNBk"
      },
      "source": [
        "### Step 3. Data Pre-Processing"
      ]
    },
    {
      "cell_type": "code",
      "metadata": {
        "colab": {
          "base_uri": "https://localhost:8080/"
        },
        "id": "gX_saFx4Oohs",
        "outputId": "631f3385-818f-4d67-d499-500fc745a196"
      },
      "source": [
        "dataset.shape"
      ],
      "execution_count": null,
      "outputs": [
        {
          "output_type": "execute_result",
          "data": {
            "text/plain": [
              "(6420, 3)"
            ]
          },
          "metadata": {},
          "execution_count": 7
        }
      ]
    },
    {
      "cell_type": "markdown",
      "metadata": {
        "id": "cIQgpOpTuSEl"
      },
      "source": [
        "#### i. Check for Missing Values (NaN)"
      ]
    },
    {
      "cell_type": "code",
      "metadata": {
        "id": "Ilu4O8c2NZ3F"
      },
      "source": [
        "dataset = dataset.dropna(how='any',axis=0) "
      ],
      "execution_count": null,
      "outputs": []
    },
    {
      "cell_type": "code",
      "metadata": {
        "colab": {
          "base_uri": "https://localhost:8080/"
        },
        "id": "Az07bspsOmfj",
        "outputId": "c2666397-dc76-46e2-95d2-ea76f0e3233a"
      },
      "source": [
        "dataset.isnull().sum()"
      ],
      "execution_count": null,
      "outputs": [
        {
          "output_type": "execute_result",
          "data": {
            "text/plain": [
              "id       0\n",
              "tweet    0\n",
              "label    0\n",
              "dtype: int64"
            ]
          },
          "metadata": {},
          "execution_count": 9
        }
      ]
    },
    {
      "cell_type": "markdown",
      "metadata": {
        "id": "S2fqwAXsunl6"
      },
      "source": [
        "#### ii. Pre-Processing Function\n",
        "\n",
        "Using Regular Expressions, remove all non-textual data including symbols, special characters, emojis and numbers.\n",
        "Normalize the case by converting all to lower case.\n",
        "Split the sentences into words, reduce the words to their stems and remove any stop words.\n",
        "Rejoin the split words with a whitespace to form a simple, cleaned sentence.\n"
      ]
    },
    {
      "cell_type": "code",
      "metadata": {
        "id": "wDxweT4OP4fo"
      },
      "source": [
        "def preprocess_column(col_name, col_length):\n",
        "  preprocessed_data = []\n",
        "  for i in range(0,col_length):\n",
        "        col_value = dataset[col_name][i]\n",
        "        col_value = re.sub('[^a-zA-Z]', ' ', col_value)\n",
        "        col_value = col_value.lower()\n",
        "        col_value = col_value.split()\n",
        "        col_value = [ps.stem(word) for word in col_value if not word in set(stopwords.words('english'))]\n",
        "        col_value = ' '.join(col_value)\n",
        "        preprocessed_data.append(col_value)\n",
        "  return preprocessed_data"
      ],
      "execution_count": null,
      "outputs": []
    },
    {
      "cell_type": "code",
      "metadata": {
        "id": "5cFb4j-uOzp4"
      },
      "source": [
        "#Calling the function for column \"tweet\"\n",
        "preprocessed_train = preprocess_column(\"tweet\",6420)"
      ],
      "execution_count": null,
      "outputs": []
    },
    {
      "cell_type": "markdown",
      "metadata": {
        "id": "4KEOSUWFvid2"
      },
      "source": [
        "#### iii. Handling Categorical Values- Label Encoding\n",
        "Replace the categories in the dependent (y) column with numeric values for easier processing in the machine-readable form.\n",
        "Here, we have \"Real\" and \"Fake\" which will be assigned values \"1\" and \"0\" respectively (according to alphabetical order)"
      ]
    },
    {
      "cell_type": "code",
      "metadata": {
        "id": "LkOBr92pZJ1u"
      },
      "source": [
        "le=LabelEncoder()\n",
        "dataset['label']=le.fit_transform(dataset['label'])"
      ],
      "execution_count": null,
      "outputs": []
    },
    {
      "cell_type": "markdown",
      "metadata": {
        "id": "aNtjpwJOfeVy"
      },
      "source": [
        "### **Count Vectorizer**"
      ]
    },
    {
      "cell_type": "markdown",
      "metadata": {
        "id": "hN3heR17wFUB"
      },
      "source": [
        "### Step 4. Feature Extraction using Count Vectorizer\n",
        "\n",
        "Convert a collection of text documents to a sparse matrix representation of token counts. Or, quite simply, it is used to transform a given text into a vector on the basis of the frequency (count) of each word that occurs in the entire text."
      ]
    },
    {
      "cell_type": "code",
      "metadata": {
        "id": "WK8IsMuDQvAW"
      },
      "source": [
        "cv = CountVectorizer(max_features = 2000)\n",
        "x = cv.fit_transform(preprocessed_train).toarray() #preprocessed tweets in the form of a sparse matrix"
      ],
      "execution_count": null,
      "outputs": []
    },
    {
      "cell_type": "code",
      "metadata": {
        "id": "Mc-WJru8wior"
      },
      "source": [
        "#Define the dependent variable (prediction column)\n",
        "y = dataset.iloc[:,2:3].values"
      ],
      "execution_count": null,
      "outputs": []
    },
    {
      "cell_type": "markdown",
      "metadata": {
        "id": "-8DO2oi-weuA"
      },
      "source": [
        "### Step 5. Split the dataset into Train and Test sets\n",
        "\n",
        "Here, we are using a 20-80 ratio, assigning an alias of \"0\" to this particular random state."
      ]
    },
    {
      "cell_type": "code",
      "metadata": {
        "id": "X_OoM6w9XiaJ"
      },
      "source": [
        "x_train,x_test,y_train,y_test = train_test_split(x,y,test_size = 0.2, random_state = 0)"
      ],
      "execution_count": null,
      "outputs": []
    },
    {
      "cell_type": "code",
      "metadata": {
        "colab": {
          "base_uri": "https://localhost:8080/"
        },
        "id": "DrSQPe6FYQiK",
        "outputId": "07573f64-f313-419f-afd8-46624e35a3ef"
      },
      "source": [
        "print(x_train.shape)\n",
        "print(y_train.shape)\n",
        "print(x_test.shape)\n",
        "print(y_test.shape)"
      ],
      "execution_count": null,
      "outputs": [
        {
          "output_type": "stream",
          "name": "stdout",
          "text": [
            "(5136, 2000)\n",
            "(5136, 1)\n",
            "(1284, 2000)\n",
            "(1284, 1)\n"
          ]
        }
      ]
    },
    {
      "cell_type": "markdown",
      "metadata": {
        "id": "FbHNPFRBY77W"
      },
      "source": [
        "### **Logistic Regression**\n",
        "\n",
        "It is a classification algorithm in machine learning that uses one or more independent variables to determine an outcome. The outcome is measured with a dichotomous variable which means it will have only two possible outcomes. For example, it may be used to determine if an email is spam or not, using the rate of misspelled words, a common sign of spam.\n",
        "\n",
        "Here, we are using it to detect whether the news headline is **fake** or **real**. "
      ]
    },
    {
      "cell_type": "code",
      "metadata": {
        "colab": {
          "base_uri": "https://localhost:8080/"
        },
        "id": "rRVztkO2ThhT",
        "outputId": "30378d51-9276-4fd0-f60d-cc161891675d"
      },
      "source": [
        "#Using Logistic Regression\n",
        "from sklearn.linear_model import LogisticRegression\n",
        "lr=LogisticRegression()\n",
        "lr.fit(x_train,y_train)\n",
        "lr_ypred=lr.predict(x_test)\n",
        "lr_acc = sklearn.metrics.accuracy_score(lr_ypred,y_test)\n",
        "print(\"Logistic Regression Accuracy: \")\n",
        "print(lr_acc*100,\"%\")"
      ],
      "execution_count": null,
      "outputs": [
        {
          "output_type": "stream",
          "name": "stderr",
          "text": [
            "/usr/local/lib/python3.7/dist-packages/sklearn/utils/validation.py:760: DataConversionWarning: A column-vector y was passed when a 1d array was expected. Please change the shape of y to (n_samples, ), for example using ravel().\n",
            "  y = column_or_1d(y, warn=True)\n"
          ]
        },
        {
          "output_type": "stream",
          "name": "stdout",
          "text": [
            "Logistic Regression Accuracy: \n",
            "92.7570093457944 %\n"
          ]
        }
      ]
    },
    {
      "cell_type": "code",
      "metadata": {
        "id": "oNNEIg-HWFHa"
      },
      "source": [
        "# pr= lr.predict(cv.transform([text_cleaner(headline2)]))\n",
        "# if pr>0.5:\n",
        "#   print(\"Real\")\n",
        "# else:\n",
        "#   print(\"Fake!\")"
      ],
      "execution_count": null,
      "outputs": []
    },
    {
      "cell_type": "markdown",
      "metadata": {
        "id": "5dHqUjAsZYUw"
      },
      "source": [
        "### **Naive Bayes Classifier**\n",
        "\n",
        "Naive Bayes algorithm is based on Bayes’ theorem with the assumption of independence between every pair of features. It assumes that the presence of a particular feature in a class is unrelated to the presence of any other feature. Even if the features depend on each other, all of these properties contribute to the probability independently."
      ]
    },
    {
      "cell_type": "code",
      "metadata": {
        "colab": {
          "base_uri": "https://localhost:8080/"
        },
        "id": "r5C-q2_9ZcDm",
        "outputId": "61f1ab0b-f671-4cda-ed20-1021e29bcdb0"
      },
      "source": [
        "from sklearn.naive_bayes import GaussianNB\n",
        "nb=GaussianNB()\n",
        "nb.fit(x_train,y_train)\n",
        "nb_ypred=nb.predict(x_test)\n",
        "nb_acc = sklearn.metrics.accuracy_score(nb_ypred,y_test)\n",
        "print(\"Naive Bayes Accuracy: \")\n",
        "print(nb_acc*100,\"%\")"
      ],
      "execution_count": null,
      "outputs": [
        {
          "output_type": "stream",
          "name": "stdout",
          "text": [
            "Naive Bayes Accuracy: \n",
            "87.14953271028037 %\n"
          ]
        },
        {
          "output_type": "stream",
          "name": "stderr",
          "text": [
            "/usr/local/lib/python3.7/dist-packages/sklearn/naive_bayes.py:206: DataConversionWarning: A column-vector y was passed when a 1d array was expected. Please change the shape of y to (n_samples, ), for example using ravel().\n",
            "  y = column_or_1d(y, warn=True)\n"
          ]
        }
      ]
    },
    {
      "cell_type": "markdown",
      "metadata": {
        "id": "kTpg7V_-bOfV"
      },
      "source": [
        "### **Stochastic Gradient Descent**\n",
        "\n",
        "Stochastic Gradient Descent is particularly useful when the sample data is in a large number. It supports different loss functions and penalties for classification. It refers to calculating the derivative from each training data instance and calculating the update immediately and it also iteratively makes small adjustments to a machine learning network configuration to decrease the error of the network."
      ]
    },
    {
      "cell_type": "code",
      "metadata": {
        "colab": {
          "base_uri": "https://localhost:8080/"
        },
        "id": "iedv4kItZ6Mj",
        "outputId": "2d9f5299-9c2b-4d50-9a45-a922818cd2d0"
      },
      "source": [
        "from sklearn.linear_model import SGDClassifier\n",
        "sgd=SGDClassifier(loss='modified_huber',shuffle=True, random_state=15)\n",
        "sgd.fit(x_train,y_train)\n",
        "sgd_ypred=sgd.predict(x_test)\n",
        "sgd_acc = sklearn.metrics.accuracy_score(sgd_ypred,y_test)\n",
        "print(\"Stochastic Gradient Descent Accuracy: \")\n",
        "print(sgd_acc*100,\"%\")"
      ],
      "execution_count": null,
      "outputs": [
        {
          "output_type": "stream",
          "name": "stderr",
          "text": [
            "/usr/local/lib/python3.7/dist-packages/sklearn/utils/validation.py:760: DataConversionWarning: A column-vector y was passed when a 1d array was expected. Please change the shape of y to (n_samples, ), for example using ravel().\n",
            "  y = column_or_1d(y, warn=True)\n"
          ]
        },
        {
          "output_type": "stream",
          "name": "stdout",
          "text": [
            "Stochastic Gradient Descent Accuracy: \n",
            "91.04361370716511 %\n"
          ]
        }
      ]
    },
    {
      "cell_type": "markdown",
      "metadata": {
        "id": "GzNvtDTlbk2g"
      },
      "source": [
        "### **K-Nearest Neighbour**\n",
        "\n",
        "Nearest-Neighbour based classification is a type of lazy learning as it does not attempt to construct a general internal model, but simply stores instances of the training data. Classification is computed from a simple majority vote of the 'k' nearest neighbours of each point."
      ]
    },
    {
      "cell_type": "code",
      "metadata": {
        "colab": {
          "base_uri": "https://localhost:8080/"
        },
        "id": "vem-bwaBbkEG",
        "outputId": "30568d4d-8f6b-4fd1-ae28-ab40da8149ad"
      },
      "source": [
        "from sklearn.neighbors import KNeighborsClassifier\n",
        "knn=KNeighborsClassifier(n_neighbors=3)\n",
        "knn.fit(x_train,y_train)\n",
        "knn_ypred=knn.predict(x_test)\n",
        "knn_acc = sklearn.metrics.accuracy_score(knn_ypred,y_test)\n",
        "print(\"K-Nearest Neighbour Accuracy: \")\n",
        "print(knn_acc*100,\"%\")"
      ],
      "execution_count": null,
      "outputs": [
        {
          "output_type": "stream",
          "name": "stderr",
          "text": [
            "/usr/local/lib/python3.7/dist-packages/ipykernel_launcher.py:3: DataConversionWarning: A column-vector y was passed when a 1d array was expected. Please change the shape of y to (n_samples, ), for example using ravel().\n",
            "  This is separate from the ipykernel package so we can avoid doing imports until\n"
          ]
        },
        {
          "output_type": "stream",
          "name": "stdout",
          "text": [
            "K-Nearest Neighbour Accuracy: \n",
            "77.10280373831776 %\n"
          ]
        }
      ]
    },
    {
      "cell_type": "markdown",
      "metadata": {
        "id": "d6c7orCgcQ9A"
      },
      "source": [
        "### **Decision Tree**\n",
        "\n",
        "Decision Tree builds models in the form of a tree structure. It classifies data into finer and finer categories: from tree trunk to branches to leaves. It uses the if-then rule of mathematics to create sub-categories that fit into broader categories and allows for precise, organic categorization."
      ]
    },
    {
      "cell_type": "code",
      "metadata": {
        "colab": {
          "base_uri": "https://localhost:8080/"
        },
        "id": "zUXOztBqcIQV",
        "outputId": "f1b8c9d6-4917-4900-be36-ba33c618d087"
      },
      "source": [
        "from sklearn.tree import DecisionTreeClassifier\n",
        "#Note: tweak values for max acc\n",
        "dtree=DecisionTreeClassifier(max_depth=40,random_state=18,max_features=None, min_samples_leaf=8)\n",
        "dtree.fit(x_train,y_train)\n",
        "dtree_ypred=dtree.predict(x_test)\n",
        "dtree_acc = sklearn.metrics.accuracy_score(dtree_ypred,y_test)\n",
        "print(\"Decision Tree Accuracy: \")\n",
        "print(dtree_acc*100,\"%\")"
      ],
      "execution_count": null,
      "outputs": [
        {
          "output_type": "stream",
          "name": "stdout",
          "text": [
            "Decision Tree Accuracy: \n",
            "87.53894080996885 %\n"
          ]
        }
      ]
    },
    {
      "cell_type": "markdown",
      "metadata": {
        "id": "tdkGuHsTdFZR"
      },
      "source": [
        "### **Random Forest** \n",
        "\n",
        "Random decision trees or random forest are an ensemble learning method for classification, regression, etc.  meaning that a random forest model is made up of a large number of small decision trees, called estimators, which each produce their own predictions. The random forest model combines the predictions of the estimators to produce a more accurate prediction."
      ]
    },
    {
      "cell_type": "code",
      "metadata": {
        "colab": {
          "base_uri": "https://localhost:8080/"
        },
        "id": "9jMjEb9CdAaV",
        "outputId": "4d300d93-03b9-48e4-85c4-46ac7570800b"
      },
      "source": [
        "from sklearn.ensemble import RandomForestClassifier\n",
        "rfm=RandomForestClassifier(n_estimators=75,oob_score=True,n_jobs=-1, random_state=20,max_features=None,min_samples_leaf=2)\n",
        "rfm.fit(x_train,y_train)\n",
        "rfm_ypred=rfm.predict(x_test)\n",
        "rfm_acc = sklearn.metrics.accuracy_score(rfm_ypred,y_test)\n",
        "print(\"Random Forest Accuracy: \")\n",
        "print(rfm_acc*100,\"%\")"
      ],
      "execution_count": null,
      "outputs": [
        {
          "output_type": "stream",
          "name": "stderr",
          "text": [
            "/usr/local/lib/python3.7/dist-packages/ipykernel_launcher.py:3: DataConversionWarning: A column-vector y was passed when a 1d array was expected. Please change the shape of y to (n_samples,), for example using ravel().\n",
            "  This is separate from the ipykernel package so we can avoid doing imports until\n"
          ]
        },
        {
          "output_type": "stream",
          "name": "stdout",
          "text": [
            "Random Forest Accuracy: \n",
            "90.57632398753894 %\n"
          ]
        }
      ]
    },
    {
      "cell_type": "markdown",
      "metadata": {
        "id": "mTGyQ9YKd5AW"
      },
      "source": [
        "### **Support Vector Machine**\n",
        "\n",
        "Support vector machine is a classifier that represents the training data as points in space separated into categories by a gap as wide as possible. New points are then added to space by predicting which category they fall into and which space they will belong to.\n",
        "\n"
      ]
    },
    {
      "cell_type": "code",
      "metadata": {
        "colab": {
          "base_uri": "https://localhost:8080/"
        },
        "id": "DK4WRJNVd-pY",
        "outputId": "782fe493-77cc-4fa7-f937-f1a09869c1a7"
      },
      "source": [
        "from sklearn.svm import SVC \n",
        "svm=SVC(kernel=\"linear\",C=0.025,random_state=None)\n",
        "svm.fit(x_train,y_train)\n",
        "svm_ypred=svm.predict(x_test)\n",
        "svm_acc = sklearn.metrics.accuracy_score(svm_ypred,y_test)\n",
        "print(\"Support Vector Machine Accuracy: \")\n",
        "print(svm_acc*100,\"%\")"
      ],
      "execution_count": null,
      "outputs": [
        {
          "output_type": "stream",
          "name": "stderr",
          "text": [
            "/usr/local/lib/python3.7/dist-packages/sklearn/utils/validation.py:760: DataConversionWarning: A column-vector y was passed when a 1d array was expected. Please change the shape of y to (n_samples, ), for example using ravel().\n",
            "  y = column_or_1d(y, warn=True)\n"
          ]
        },
        {
          "output_type": "stream",
          "name": "stdout",
          "text": [
            "Support Vector Machine Accuracy: \n",
            "92.13395638629284 %\n"
          ]
        }
      ]
    },
    {
      "cell_type": "markdown",
      "metadata": {
        "id": "UPYCv24RkXZ0"
      },
      "source": [
        "### **Classification ANN**\n",
        "\n",
        "Classification ANNs seek to classify an observation as belonging to some discrete class as a function of the inputs. The input features (independent variables) can be categorical or numeric types, however, we require a categorical feature as the dependent variable."
      ]
    },
    {
      "cell_type": "markdown",
      "metadata": {
        "id": "wn44I35axFtJ"
      },
      "source": [
        "### Compile and fit the model"
      ]
    },
    {
      "cell_type": "code",
      "metadata": {
        "id": "DeDW5wKUXoXA"
      },
      "source": [
        "#Using a Sequential Model\n",
        "model = Sequential()\n",
        "model.add(Dense(units = 2000, kernel_initializer = \"random_uniform\", activation = \"relu\"))\n",
        "model.add(Dense(units = 4000, kernel_initializer = \"random_uniform\", activation = \"relu\"))\n",
        "model.add(Dense(units = 4000, kernel_initializer = \"random_uniform\", activation = \"relu\"))\n",
        "model.add(Dense(units = 4000, kernel_initializer = \"random_uniform\", activation = \"relu\"))\n",
        "model.add(Dense(units = 4000, kernel_initializer = \"random_uniform\", activation = \"relu\"))\n",
        "model.add(Dense(units = 4000, kernel_initializer = \"random_uniform\", activation = \"relu\"))\n",
        "model.add(Dense(units = 4000, kernel_initializer = \"random_uniform\", activation = \"relu\"))\n",
        "model.add(Dense(units = 1, kernel_initializer = \"random_uniform\", activation = \"sigmoid\"))"
      ],
      "execution_count": null,
      "outputs": []
    },
    {
      "cell_type": "code",
      "metadata": {
        "colab": {
          "base_uri": "https://localhost:8080/"
        },
        "id": "akaYqCX0XtV0",
        "outputId": "564017ad-3b84-4983-fa85-be5f0b2da542"
      },
      "source": [
        "model.compile(optimizer = \"rmsprop\", loss=\"binary_crossentropy\", metrics= [\"accuracy\"])\n",
        "seq_history= model.fit(x_train,y_train, epochs = 5,verbose=1, steps_per_epoch=50)"
      ],
      "execution_count": null,
      "outputs": [
        {
          "output_type": "stream",
          "name": "stdout",
          "text": [
            "Epoch 1/5\n",
            "50/50 [==============================] - 80s 2s/step - loss: 125.2316 - accuracy: 0.7685\n",
            "Epoch 2/5\n",
            "50/50 [==============================] - 77s 2s/step - loss: 0.1372 - accuracy: 0.9537\n",
            "Epoch 3/5\n",
            "50/50 [==============================] - 77s 2s/step - loss: 0.2308 - accuracy: 0.9367\n",
            "Epoch 4/5\n",
            "50/50 [==============================] - 77s 2s/step - loss: 0.0785 - accuracy: 0.9762\n",
            "Epoch 5/5\n",
            "50/50 [==============================] - 77s 2s/step - loss: 0.0541 - accuracy: 0.9819\n"
          ]
        }
      ]
    },
    {
      "cell_type": "code",
      "metadata": {
        "colab": {
          "base_uri": "https://localhost:8080/"
        },
        "id": "OTXkdRNba4R4",
        "outputId": "a2b07c1f-da53-49e3-ae37-54f821bd85f5"
      },
      "source": [
        "acc= model.evaluate(x_train, y_train)\n"
      ],
      "execution_count": null,
      "outputs": [
        {
          "output_type": "stream",
          "name": "stdout",
          "text": [
            "161/161 [==============================] - 26s 163ms/step - loss: 0.0489 - accuracy: 0.9979\n"
          ]
        }
      ]
    },
    {
      "cell_type": "code",
      "metadata": {
        "colab": {
          "base_uri": "https://localhost:8080/"
        },
        "id": "tlJv1wcidvWC",
        "outputId": "b908090e-e47b-45a7-a1e4-50624e127091"
      },
      "source": [
        "print(\"Sequential Model Accuracy: \")\n",
        "acc=acc[1]\n",
        "print(acc*100,\"%\")"
      ],
      "execution_count": null,
      "outputs": [
        {
          "output_type": "stream",
          "name": "stdout",
          "text": [
            "Sequential Model Accuracy: \n",
            "99.78582262992859 %\n"
          ]
        }
      ]
    },
    {
      "cell_type": "markdown",
      "metadata": {
        "id": "fN2l1DmqfMOC"
      },
      "source": [
        "### **Sample Headlines for Testing**"
      ]
    },
    {
      "cell_type": "code",
      "metadata": {
        "id": "TN60uaEIWaXc"
      },
      "source": [
        "headline1 = \"Social gatherings of more than six people will be banned across England Wales and Scotland from tomorrow. But what are the new rules what happens if you break them and how do they differ across the nations? ðŸ‘‡\"\n",
        "headline2 = \"Korona virus, very new deadly form of virus, china is suffering, may come to India immediately, avoid any form of cold drinks, ice creams, koolfee, etc, any type of preserved foods, milkshake, rough ice, ice colas, milk sweets older then 48 hours, for atleast 90 days from today.\"\n",
        "headline3 = \"As tuberculosis shaped modernism, so COVID-19 and our collective experience of staying inside for months on end will influence architectureâ€™s near future, @chaykak writes. https://t.co/ag34yZckbU\"\n",
        "headline4 = \"SUBHAN ALLAH: AFTER CORONA VIRUS CHINA GOVT LIFTED BAN ON HOLY QURAN & ALLOWED CHINESE MUSLIMS TO READ THEIR SACRED BOOK! SO WHICH OF THE FAVORS OF YOUR LORD WOULD YOU DENY?\"\n",
        "headline5 = \"#IndiaFightsCorona Following the national trend 17 States/UTs have more new recoveries than new cases. https://t.co/aHWwlaimmb\""
      ],
      "execution_count": null,
      "outputs": []
    },
    {
      "cell_type": "code",
      "metadata": {
        "colab": {
          "base_uri": "https://localhost:8080/"
        },
        "id": "jvqDPw93WN-v",
        "outputId": "c1e8b666-ee45-42c6-ac57-9d95ca868ca9"
      },
      "source": [
        "predictor(text_cleaner(headline2))"
      ],
      "execution_count": null,
      "outputs": [
        {
          "output_type": "stream",
          "name": "stdout",
          "text": [
            "Fake!\n"
          ]
        }
      ]
    },
    {
      "cell_type": "markdown",
      "metadata": {
        "id": "lsT2cZdgxLnn"
      },
      "source": [
        "### Functions for Input Processing"
      ]
    },
    {
      "cell_type": "code",
      "metadata": {
        "id": "RG-uAfmRmxCb"
      },
      "source": [
        "#function to clean the input text\n",
        "def text_cleaner(text):\n",
        "  text = re.sub('[^a-zA-Z]', ' ', text) \n",
        "  text = text.lower()\n",
        "  text = text.split() \n",
        "  text = [ps.stem(word) for word in text if not word in set(stopwords.words('english'))]\n",
        "  text = ' '.join(text)\n",
        "  return text"
      ],
      "execution_count": null,
      "outputs": []
    },
    {
      "cell_type": "code",
      "metadata": {
        "id": "tA5zFBNpaRLY"
      },
      "source": [
        "#function to predict\n",
        "def predictor(text):\n",
        "  if (model.predict(cv.transform([text])))>0.5:\n",
        "    print(\"Real\")\n",
        "  else:\n",
        "    print(\"Fake!\")"
      ],
      "execution_count": null,
      "outputs": []
    },
    {
      "cell_type": "markdown",
      "metadata": {
        "id": "M2OvVzNdgP9u"
      },
      "source": [
        "### Comparing Performance Accuracies"
      ]
    },
    {
      "cell_type": "code",
      "metadata": {
        "colab": {
          "base_uri": "https://localhost:8080/"
        },
        "id": "X4IxD8SUkLlD",
        "outputId": "59a62a0a-a294-4573-b6b0-8a26eca79f06"
      },
      "source": [
        "accuracies= {\"seq\": acc, \n",
        "             \"logreg\": lr_acc, \n",
        "             \"naive\": nb_acc, \n",
        "             \"SGD\": sgd_acc, \n",
        "             \"kNN\": knn_acc, \n",
        "             \"DT\": dtree_acc, \n",
        "             \"RF\": rfm_acc, \n",
        "             \"SVM\": svm_acc\n",
        "             }\n",
        "\n",
        "print(\"Classification models in descending order of accuracy:\")\n",
        "sorted(accuracies.items(), key=lambda x: x[1],reverse=True)\n"
      ],
      "execution_count": null,
      "outputs": [
        {
          "output_type": "stream",
          "name": "stdout",
          "text": [
            "Classification models in descending order of accuracy:\n"
          ]
        },
        {
          "output_type": "execute_result",
          "data": {
            "text/plain": [
              "[('seq', 0.9978582262992859),\n",
              " ('logreg', 0.927570093457944),\n",
              " ('SVM', 0.9213395638629284),\n",
              " ('SGD', 0.910436137071651),\n",
              " ('RF', 0.9057632398753894),\n",
              " ('DT', 0.8753894080996885),\n",
              " ('naive', 0.8714953271028038),\n",
              " ('kNN', 0.7710280373831776)]"
            ]
          },
          "metadata": {},
          "execution_count": 36
        }
      ]
    },
    {
      "cell_type": "code",
      "metadata": {
        "colab": {
          "base_uri": "https://localhost:8080/",
          "height": 295
        },
        "id": "huVCOesLk4jl",
        "outputId": "63387fd1-5d16-4b28-a160-717a9ecb5c44"
      },
      "source": [
        "lists = sorted(accuracies.items(), key=lambda x: x[1]*100,reverse=True) # sorted by key, return a list of tuples\n",
        "\n",
        "x, y = zip(*lists) # unpack a list of pairs into two tuples\n",
        "\n",
        "z = []\n",
        "for i in y:\n",
        "   z.append(i*100)\n",
        "tuple(z)\n",
        "plt.plot(x, z)\n",
        "\n",
        "plt.title('Classfication Models vs Accuracy')\n",
        "plt.xlabel('Classification Models')\n",
        "plt.ylabel('Accuracy %')\n",
        "plt.show()\n"
      ],
      "execution_count": null,
      "outputs": [
        {
          "output_type": "display_data",
          "data": {
            "image/png": "[encoded data removed]",
            "text/plain": [
              "<Figure size 432x288 with 1 Axes>"
            ]
          },
          "metadata": {
            "needs_background": "light"
          }
        }
      ]
    },
    {
      "cell_type": "markdown",
      "metadata": {
        "id": "kXwH9Hd4n95r"
      },
      "source": [
        "### Save the model as a .h5 file\n",
        "\n",
        "Since this model has the highest accuracy, we will be using this for the prediction during the deployment of our application."
      ]
    },
    {
      "cell_type": "code",
      "metadata": {
        "id": "nsMHOb7jnZp6"
      },
      "source": [
        "model.save(\"fake-news.h5\")"
      ],
      "execution_count": null,
      "outputs": []
    },
    {
      "cell_type": "markdown",
      "metadata": {
        "id": "hbcrucfHlY7r"
      },
      "source": [
        "### **k-Fold Cross Validation**"
      ]
    },
    {
      "cell_type": "code",
      "metadata": {
        "id": "ebUg28VjejKP"
      },
      "source": [
        "from sklearn import model_selection\n",
        "from sklearn.preprocessing import StandardScaler\n",
        "from sklearn.model_selection import KFold\n",
        "from sklearn.model_selection import cross_val_score\n",
        "\n",
        "def build_classifier():\n",
        "  model = Sequential()\n",
        "  model.add(Dense(units = 2000, kernel_initializer = \"random_uniform\", activation = \"relu\"))\n",
        "  model.add(Dense(units = 4000, kernel_initializer = \"random_uniform\", activation = \"relu\"))\n",
        "  model.add(Dense(units = 4000, kernel_initializer = \"random_uniform\", activation = \"relu\"))\n",
        "  model.add(Dense(units = 4000, kernel_initializer = \"random_uniform\", activation = \"relu\"))\n",
        "  model.add(Dense(units = 4000, kernel_initializer = \"random_uniform\", activation = \"relu\"))\n",
        "  model.add(Dense(units = 4000, kernel_initializer = \"random_uniform\", activation = \"relu\"))\n",
        "  model.add(Dense(units = 4000, kernel_initializer = \"random_uniform\", activation = \"relu\"))\n",
        "  model.add(Dense(units = 1, kernel_initializer = \"random_uniform\", activation = \"sigmoid\"))\n",
        "  model.compile(optimizer = \"rmsprop\", loss=\"binary_crossentropy\", metrics= [\"accuracy\"])\n",
        "  return model"
      ],
      "execution_count": null,
      "outputs": []
    },
    {
      "cell_type": "markdown",
      "metadata": {
        "id": "WnJ3Slfeea4s"
      },
      "source": [
        "### Validation 1"
      ]
    },
    {
      "cell_type": "code",
      "metadata": {
        "colab": {
          "base_uri": "https://localhost:8080/"
        },
        "id": "00ZrkVEblW7s",
        "outputId": "ccd76797-e806-45f6-b2e6-63b0cf084b8b"
      },
      "source": [
        "kf = KFold(n_splits=8, random_state=15, shuffle=True)\n",
        "val_accuracy_per_fold = []\n",
        "val_loss_per_fold = []\n",
        "\n",
        "for train, test in kf.split(x, y):\n",
        "  sc = StandardScaler()\n",
        "x_train = sc.fit_transform(x_train)\n",
        "x_test = sc.transform(x_test)\n",
        "\n",
        "model=build_classifier()\n",
        "history = model.fit(x_train,y_train, epochs = 10,verbose=1, steps_per_epoch=50, validation_data=(x_test, y_test))"
      ],
      "execution_count": null,
      "outputs": [
        {
          "output_type": "stream",
          "name": "stdout",
          "text": [
            "Epoch 1/10\n",
            "50/50 [==============================] - 85s 2s/step - loss: 2297.1436 - accuracy: 0.5275 - val_loss: 0.7039 - val_accuracy: 0.5179\n",
            "Epoch 2/10\n",
            "50/50 [==============================] - 83s 2s/step - loss: 0.9564 - accuracy: 0.5827 - val_loss: 0.4325 - val_accuracy: 0.8092\n",
            "Epoch 3/10\n",
            "50/50 [==============================] - 83s 2s/step - loss: 1.9617 - accuracy: 0.6454 - val_loss: 4.8208 - val_accuracy: 0.5125\n",
            "Epoch 4/10\n",
            "50/50 [==============================] - 83s 2s/step - loss: 0.5861 - accuracy: 0.8004 - val_loss: 0.6338 - val_accuracy: 0.6822\n",
            "Epoch 5/10\n",
            "50/50 [==============================] - 82s 2s/step - loss: 0.3674 - accuracy: 0.9099 - val_loss: 0.6732 - val_accuracy: 0.9073\n",
            "Epoch 6/10\n",
            "50/50 [==============================] - 82s 2s/step - loss: 0.5707 - accuracy: 0.9130 - val_loss: 0.6743 - val_accuracy: 0.9089\n",
            "Epoch 7/10\n",
            "50/50 [==============================] - 82s 2s/step - loss: 0.0971 - accuracy: 0.9755 - val_loss: 0.5535 - val_accuracy: 0.9089\n",
            "Epoch 8/10\n",
            "50/50 [==============================] - 82s 2s/step - loss: 0.7382 - accuracy: 0.9661 - val_loss: 0.5372 - val_accuracy: 0.9050\n",
            "Epoch 9/10\n",
            "50/50 [==============================] - 82s 2s/step - loss: 0.1141 - accuracy: 0.9873 - val_loss: 0.5834 - val_accuracy: 0.8801\n",
            "Epoch 10/10\n",
            "50/50 [==============================] - 83s 2s/step - loss: 0.0801 - accuracy: 0.9928 - val_loss: 1.6050 - val_accuracy: 0.9128\n"
          ]
        }
      ]
    },
    {
      "cell_type": "code",
      "metadata": {
        "id": "hk21Ovjgos-1"
      },
      "source": [
        "val_accuracy_per_fold.append(history.history['val_accuracy'][-1])\n",
        "val_loss_per_fold.append(history.history['val_loss'][-1])"
      ],
      "execution_count": null,
      "outputs": []
    },
    {
      "cell_type": "markdown",
      "metadata": {
        "id": "-KRO-y85fEux"
      },
      "source": [
        "### Validation 2\n",
        "\n",
        "Continued in Validation_File.ipynb"
      ]
    },
    {
      "cell_type": "markdown",
      "metadata": {
        "id": "HWVzj3lTkvPG"
      },
      "source": [
        "## **Visualization of Observations**\n"
      ]
    },
    {
      "cell_type": "markdown",
      "metadata": {
        "id": "smGQif_lo0HR"
      },
      "source": [
        "#### 1. Model Accuracy- Training vs Validation"
      ]
    },
    {
      "cell_type": "code",
      "metadata": {
        "colab": {
          "base_uri": "https://localhost:8080/",
          "height": 177
        },
        "id": "XnooiMofo8V0",
        "outputId": "4ed4ff0a-f8b4-4e0d-b5dd-3b4e6c20de3b"
      },
      "source": [
        "plt.subplot(211)\n",
        "plt.plot(history.history['accuracy'])\n",
        "plt.plot(history.history['val_accuracy'])\n",
        "plt.title('Model Accuracy')\n",
        "plt.ylabel('Accuracy')\n",
        "plt.xlabel('Epoch')\n",
        "plt.legend(['Training', 'Validation'], loc='lower right')\n",
        "plt.show()"
      ],
      "execution_count": null,
      "outputs": [
        {
          "output_type": "display_data",
          "data": {
            "image/png": "[encoded data removed]",
            "text/plain": [
              "<Figure size 432x288 with 1 Axes>"
            ]
          },
          "metadata": {
            "needs_background": "light"
          }
        }
      ]
    },
    {
      "cell_type": "markdown",
      "metadata": {
        "id": "VbpnMINLsmfV"
      },
      "source": [
        "#### 2. Model Loss- Training vs Validation"
      ]
    },
    {
      "cell_type": "code",
      "metadata": {
        "colab": {
          "base_uri": "https://localhost:8080/",
          "height": 182
        },
        "id": "A3wEz_sfsiJp",
        "outputId": "e4f0871b-c51a-4a28-e208-228cf6e34bcd"
      },
      "source": [
        "plt.subplot(212)\n",
        "plt.plot(history.history['loss'])\n",
        "plt.plot(history.history['val_loss'])\n",
        "plt.title('Model Loss')\n",
        "plt.ylabel('Loss')\n",
        "plt.xlabel('Epoch')\n",
        "plt.legend(['Training', 'Validation'], loc='upper right')\n",
        "plt.tight_layout()\n",
        "plt.show()"
      ],
      "execution_count": null,
      "outputs": [
        {
          "output_type": "display_data",
          "data": {
            "image/png": "[encoded data removed]",
            "text/plain": [
              "<Figure size 432x288 with 1 Axes>"
            ]
          },
          "metadata": {
            "needs_background": "light"
          }
        }
      ]
    },
    {
      "cell_type": "markdown",
      "metadata": {
        "id": "Jgx3PvEZpIdP"
      },
      "source": [
        "## Resources for Prediction Verification"
      ]
    },
    {
      "cell_type": "code",
      "metadata": {
        "colab": {
          "base_uri": "https://localhost:8080/"
        },
        "id": "mIdizvCTgPQ4",
        "outputId": "264673a4-456f-4024-f2bf-1ddec061c17e"
      },
      "source": [
        "!pip install beautifulsoup4\n",
        "!pip install google\n",
        "from googlesearch import search"
      ],
      "execution_count": null,
      "outputs": [
        {
          "output_type": "stream",
          "name": "stdout",
          "text": [
            "Requirement already satisfied: beautifulsoup4 in /usr/local/lib/python3.7/dist-packages (4.6.3)\n",
            "Requirement already satisfied: google in /usr/local/lib/python3.7/dist-packages (2.0.3)\n",
            "Requirement already satisfied: beautifulsoup4 in /usr/local/lib/python3.7/dist-packages (from google) (4.6.3)\n"
          ]
        }
      ]
    },
    {
      "cell_type": "code",
      "metadata": {
        "colab": {
          "base_uri": "https://localhost:8080/"
        },
        "id": "9JCBjRgfojNH",
        "outputId": "671e6ea5-cafe-4be2-bda9-b31113a6ed7f"
      },
      "source": [
        "print(\"Here are some resources that could verify our prediction: \")\n",
        "query = headline1 #enter headline here\n",
        "for j in search(query, tld=\"com\", stop=5, pause=1):\n",
        "  print(j)"
      ],
      "execution_count": null,
      "outputs": [
        {
          "output_type": "stream",
          "name": "stdout",
          "text": [
            "Here are some resources that could verify our prediction: \n",
            "https://www.bbc.com/news/uk-54081131\n",
            "https://www.bbc.com/news/uk-54142699\n",
            "https://abcnews.go.com/Health/wireStory/uk-imposes-coronavirus-restrictions-england-72907229\n",
            "https://www.webmd.com/lung/news/20200909/uk-to-limit-social-gatherings-to-six-people\n",
            "https://www.unhcr.org/56bb369c9.pdf\n"
          ]
        }
      ]
    }
  ]
}